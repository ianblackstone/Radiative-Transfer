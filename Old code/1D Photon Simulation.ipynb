{
 "cells": [
  {
   "cell_type": "markdown",
   "metadata": {},
   "source": [
    "In order to begin simulating the movement of photons through a dust cloud we start with the toy model of photons \n",
    "We take $N$ upward moving photons starting at $z = 0$ the photons take steps of size $s = -\\ln(1-\\xi_1)$, where $\\xi_x$ will be a random number drawn from a uniform distribution between 0 and 1.  After taking this step the particles scatter in a random direction.  We find this direction by $\\cos(\\theta) = \\mu = 2\\xi_2 - 1$ and $\\phi = 2\\pi\\xi_3$.  The particle then takes a new step of a random size and the process repeats until the photon has either escaped the atmosphere by reaching a height of $z = \\tau_{atm}$ or scatters below $z = 0$ where it is considered to be absorbed back into the emitting material."
   ]
  },
  {
   "cell_type": "code",
   "execution_count": 1,
   "metadata": {},
   "outputs": [],
   "source": [
    "# imports\n",
    "import numpy as np\n",
    "import matplotlib.pyplot as plt"
   ]
  },
  {
   "cell_type": "code",
   "execution_count": 2,
   "metadata": {},
   "outputs": [],
   "source": [
    "def TakeStep(tau,mu,phi):\n",
    "    # Travel some step size in the direction it was heading in.\n",
    "    # tau = current position of the photon, stored as a numpy array [x,y,z].\n",
    "    # mu = cos(theta), the cosine of the angle between the velocity vector of the photon and the z axis.\n",
    "    # phi = the azimuthal angle of the photon's velocity.\n",
    "    \n",
    "    # calculate the step size before an interaction.\n",
    "    step =  -np.log(1-np.random.rand())\n",
    "    # tau[0] += mu*np.cos(phi)*step\n",
    "    # tau[1] += mu*np.sin(phi)*step\n",
    "    tau[2] += mu*step\n",
    "    return tau \n",
    "\n",
    "\n",
    "def Scatter():\n",
    "    # decide on a new random direction to scatter in.\n",
    "    mu = 2*np.random.rand() - 1\n",
    "    phi = 2*np.pi*np.random.rand()\n",
    "    \n",
    "    return mu, phi"
   ]
  },
  {
   "cell_type": "code",
   "execution_count": 3,
   "metadata": {},
   "outputs": [],
   "source": [
    "# atmosphere depth, numpy array from 0 to 10 with N_atm evenly spaced samples\n",
    "N_atm = 1000\n",
    "tau_atm = np.logspace(-2,2,N_atm,base=10)\n",
    "# tau_atm = np.array([0.01,0.03,0.1,0.3,1,3,10])\n",
    "\n",
    "# The number of photons to simulate for each optical depth\n",
    "N_photons = 1000\n",
    "\n",
    "# # Number of bins in the mu and phi directions.\n",
    "# # mu ranges from 0 to 1 and phi ranges from 0 to 2pi\n",
    "# N_mu = 100\n",
    "# N_phi = 100\n",
    "\n",
    "# photons starts at z = 0, moving upward.\n",
    "# Making space for the x and y coords even if not being used now.\n",
    "tau_i = [0,0,0]\n",
    "mu_i = 1\n",
    "phi_i = 0\n",
    "\n",
    "# Counter for the number of photons that get absorbed\n",
    "N_absorbed = np.zeros_like(tau_atm)"
   ]
  },
  {
   "cell_type": "code",
   "execution_count": 4,
   "metadata": {},
   "outputs": [],
   "source": [
    "# Loop over each atmospheric depth.  atm will be the atmospheric depth, atm_i is an iteration variable.\n",
    "for atm_i,atm in enumerate(tau_atm):\n",
    "    # Loop over each photon\n",
    "    for phot_i in range(N_photons):\n",
    "        # Set the initial conditions for the photons\n",
    "        tau = tau_i[:]\n",
    "        mu = mu_i\n",
    "        phi = phi_i\n",
    "        \n",
    "        # Keep making steps until the photon is absorbed or transmitted.\n",
    "        while 1:\n",
    "            tau = TakeStep(tau,mu,phi)\n",
    "           \n",
    "            if tau[2] >= atm:\n",
    "                break\n",
    "            elif tau[2] < 0:\n",
    "                N_absorbed[atm_i] += 1\n",
    "                break\n",
    "            \n",
    "            # If the photon did not escape or get absorbed decide on a new scattering angle.\n",
    "            mu,phi = Scatter()"
   ]
  },
  {
   "cell_type": "code",
   "execution_count": 5,
   "metadata": {},
   "outputs": [
    {
     "data": {
      "image/png": "[encoded data removed]",
      "text/plain": [
       "<Figure size 432x288 with 1 Axes>"
      ]
     },
     "metadata": {
      "needs_background": "light"
     },
     "output_type": "display_data"
    }
   ],
   "source": [
    "# Calculate the actual fraction transmitted and the theoretical line for comparison.\n",
    "frac_transmitted = 1-N_absorbed/N_photons\n",
    "theory = 1/(1+tau_atm/2)\n",
    "\n",
    "# Plot data\n",
    "plt.plot(np.log10(tau_atm), frac_transmitted, label=\"Simulation data\")\n",
    "plt.plot(np.log10(tau_atm),theory,label = r'$\\frac{1}{1+\\frac{\\tau}{2}}$')\n",
    "plt.legend()\n",
    "plt.xlabel(r'$log_{10}(\\tau_{atm})$')\n",
    "plt.ylabel('Fraction of transmitted photons')\n",
    "# plt.savefig('1D_Plot.png',dpi=200)"
   ]
  },
  {
   "cell_type": "code",
   "execution_count": null,
   "metadata": {},
   "outputs": [],
   "source": []
  }
 ],
 "metadata": {
  "kernelspec": {
   "display_name": "Python 3",
   "language": "python",
   "name": "python3"
  },
  "language_info": {
   "codemirror_mode": {
    "name": "ipython",
    "version": 3
   },
   "file_extension": ".py",
   "mimetype": "text/x-python",
   "name": "python",
   "nbconvert_exporter": "python",
   "pygments_lexer": "ipython3",
   "version": "3.7.4"
  }
 },
 "nbformat": 4,
 "nbformat_minor": 2
}
